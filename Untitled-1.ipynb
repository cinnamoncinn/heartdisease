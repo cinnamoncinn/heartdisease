{
 "cells": [
  {
   "cell_type": "code",
   "execution_count": 2,
   "metadata": {},
   "outputs": [],
   "source": [
    "# Step 1: Import necessary libraries\n",
    "import pandas as pd\n",
    "import numpy as np\n",
    "from sklearn.metrics import classification_report, confusion_matrix\n",
    "from sklearn.model_selection import train_test_split\n",
    "from sklearn.ensemble import StackingClassifier, RandomForestClassifier\n",
    "from sklearn.svm import SVC\n",
    "from sklearn.neural_network import MLPClassifier\n",
    "from xgboost import XGBClassifier\n",
    "from sklearn.linear_model import LogisticRegression\n",
    "from sklearn.metrics import accuracy_score"
   ]
  },
  {
   "cell_type": "code",
   "execution_count": 3,
   "metadata": {},
   "outputs": [],
   "source": [
    "# Step 2: Load your dataset\n",
    "# Assuming your dataset is named 'heart_disease.csv' and has 18 features plus the target column 'Heart_Risk'\n",
    "file_path = 'C:/Users/pagodna/Desktop/heart.csv'\n",
    "dataset = pd.read_csv(file_path)\n",
    "\n",
    "# Assuming the target column is 'Heart_Risk'\n",
    "X = dataset.drop('Heart_Risk', axis=1)  # Features\n",
    "y = dataset['Heart_Risk']  # Target variable\n"
   ]
  },
  {
   "cell_type": "code",
   "execution_count": 4,
   "metadata": {},
   "outputs": [],
   "source": [
    "# Step 3: Split the data into training and testing sets\n",
    "X_train, X_test, y_train, y_test = train_test_split(X, y, test_size=0.3, random_state=42)"
   ]
  },
  {
   "cell_type": "code",
   "execution_count": 5,
   "metadata": {},
   "outputs": [],
   "source": [
    "# Step 4: Initialize base models\n",
    "base_learners = [\n",
    "    ('rf', RandomForestClassifier(n_estimators=100, random_state=42)),\n",
    "    ('svm', SVC(probability=True, kernel='linear')),\n",
    "    ('xgb', XGBClassifier(n_estimators=100, random_state=42)),\n",
    "    ('ann', MLPClassifier(hidden_layer_sizes=(100,), max_iter=1000, random_state=42))\n",
    "]"
   ]
  },
  {
   "cell_type": "code",
   "execution_count": 6,
   "metadata": {},
   "outputs": [],
   "source": [
    "# Step 5: Initialize the Stacking Classifier with a Logistic Regression meta-model\n",
    "meta_model = LogisticRegression()\n",
    "\n",
    "stacking_model = StackingClassifier(estimators=base_learners, final_estimator=meta_model)\n",
    "\n",
    "# Step 6: Train the stacking model\n",
    "stacking_model.fit(X_train, y_train)\n",
    "\n",
    "# Step 7: Evaluate the model performance\n",
    "y_pred = stacking_model.predict(X_test)\n",
    "accuracy = accuracy_score(y_test, y_pred)\n"
   ]
  },
  {
   "cell_type": "code",
   "execution_count": 7,
   "metadata": {},
   "outputs": [
    {
     "name": "stdout",
     "output_type": "stream",
     "text": [
      "Stacking Model Accuracy: 99.30%\n"
     ]
    }
   ],
   "source": [
    "print(f\"Stacking Model Accuracy: {accuracy * 100:.2f}%\")"
   ]
  },
  {
   "cell_type": "code",
   "execution_count": 12,
   "metadata": {},
   "outputs": [
    {
     "name": "stdout",
     "output_type": "stream",
     "text": [
      "You have a high risk of heart disease.\n"
     ]
    },
    {
     "name": "stderr",
     "output_type": "stream",
     "text": [
      "c:\\Users\\pagodna\\AppData\\Local\\Programs\\Python\\Python311\\Lib\\site-packages\\sklearn\\utils\\validation.py:2739: UserWarning: X does not have valid feature names, but RandomForestClassifier was fitted with feature names\n",
      "  warnings.warn(\n",
      "c:\\Users\\pagodna\\AppData\\Local\\Programs\\Python\\Python311\\Lib\\site-packages\\sklearn\\utils\\validation.py:2739: UserWarning: X does not have valid feature names, but SVC was fitted with feature names\n",
      "  warnings.warn(\n",
      "c:\\Users\\pagodna\\AppData\\Local\\Programs\\Python\\Python311\\Lib\\site-packages\\sklearn\\utils\\validation.py:2739: UserWarning: X does not have valid feature names, but MLPClassifier was fitted with feature names\n",
      "  warnings.warn(\n"
     ]
    }
   ],
   "source": [
    "# Step 6: Prediction Function for User Input\n",
    "\n",
    "# Define the input values directly (this is just an example, you can change the values)\n",
    "chest_pain =1 # Example: 1 = Yes, 0 = No\n",
    "shortness_of_breath = 1\n",
    "fatigue = 0\n",
    "palpitations = 1\n",
    "dizziness = 0\n",
    "swelling = 0\n",
    "pain_arms_jaw_back = 1\n",
    "cold_sweats_nausea = 1\n",
    "high_bp = 1\n",
    "high_cholesterol = 0\n",
    "diabetes = 1\n",
    "smoking = 1\n",
    "obesity = 0\n",
    "sedentary_lifestyle = 1\n",
    "family_history = 1\n",
    "chronic_stress = 1\n",
    "gender = 1# 0 = Male, 1 = Female\n",
    "age = 60\n",
    "\n",
    "# Combine all inputs into a single list (this represents one sample)\n",
    "user_input = np.array([[chest_pain, shortness_of_breath, fatigue, palpitations, dizziness, swelling,\n",
    "                        pain_arms_jaw_back, cold_sweats_nausea, high_bp, high_cholesterol, diabetes,\n",
    "                        smoking, obesity, sedentary_lifestyle, family_history, chronic_stress, gender, age]])\n",
    "\n",
    "# Make a prediction with the stacking model\n",
    "prediction = stacking_model.predict(user_input)\n",
    "\n",
    "# Output the prediction result\n",
    "if prediction[0] == 0:\n",
    "    print(\"You have a low risk of heart disease.\")\n",
    "else:\n",
    "    print(\"You have a high risk of heart disease.\")"
   ]
  }
 ],
 "metadata": {
  "kernelspec": {
   "display_name": "Python 3",
   "language": "python",
   "name": "python3"
  },
  "language_info": {
   "codemirror_mode": {
    "name": "ipython",
    "version": 3
   },
   "file_extension": ".py",
   "mimetype": "text/x-python",
   "name": "python",
   "nbconvert_exporter": "python",
   "pygments_lexer": "ipython3",
   "version": "3.11.0"
  }
 },
 "nbformat": 4,
 "nbformat_minor": 2
}
